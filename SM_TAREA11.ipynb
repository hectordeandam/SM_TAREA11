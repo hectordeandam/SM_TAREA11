{
 "cells": [
  {
   "cell_type": "code",
   "execution_count": null,
   "metadata": {},
   "outputs": [],
   "source": [
    "import matplotlib.pyplot as plt\n",
    "import numpy as np\n",
    "%matplotlib inline"
   ]
  },
  {
   "cell_type": "code",
   "execution_count": null,
   "metadata": {},
   "outputs": [],
   "source": [
    "def parab(x):\n",
    "    return x**2"
   ]
  },
  {
   "cell_type": "code",
   "execution_count": null,
   "metadata": {},
   "outputs": [],
   "source": [
    "x = np.linspace(0,1)\n",
    "y = parab(x)\n",
    "\n",
    "plt.fill_between(x,y)\n",
    "plt.text(0.8,0.2,'$\\mathcal{D}$',fontsize=20)\n",
    "plt.show()"
   ]
  },
  {
   "cell_type": "code",
   "execution_count": null,
   "metadata": {},
   "outputs": [],
   "source": [
    "N = 100000\n",
    "x = np.random.uniform(0, 1, N)\n",
    "\n",
    "A_Dapprox = np.sum(parab(x))/N\n",
    "A_Dapprox"
   ]
  },
  {
   "cell_type": "code",
   "execution_count": null,
   "metadata": {},
   "outputs": [],
   "source": [
    "import pandas as pd\n"
   ]
  },
  {
   "cell_type": "code",
   "execution_count": null,
   "metadata": {},
   "outputs": [],
   "source": [
    "A_D = 1/3\n",
    "\n",
    "N = np.logspace(1,7,7)\n",
    "\n",
    "df = pd.DataFrame(index=N,columns=['Valor_aproximacion', 'Error_relativo'], dtype='float')\n",
    "df.index.name = \"Cantidad_terminos\"\n",
    "\n",
    "for n in N:\n",
    "    x = np.random.uniform(0, 1, n.astype(int))\n",
    "    df.loc[n,\"Valor_aproximacion\"] = np.sum(parab(x))/n\n",
    "    df.loc[n,\"Error_relativo\"] = np.abs(df.loc[n,\"Valor_aproximacion\"]-A_D)/A_D\n",
    "    \n",
    "df"
   ]
  },
  {
   "cell_type": "code",
   "execution_count": null,
   "metadata": {},
   "outputs": [],
   "source": [
    "# Escribir la función acá\n",
    "def int_montecarlo1(f, a, b, N):\n",
    "    return (b-a)/N*np.sum(f(np.random.uniform(a,b,N)))"
   ]
  },
  {
   "cell_type": "code",
   "execution_count": null,
   "metadata": {},
   "outputs": [],
   "source": [
    "# Resolver\n",
    "def func1(x):\n",
    "    ???\n",
    "def func2(x):\n",
    "    ???\n",
    "def func3(x):\n",
    "    ???"
   ]
  },
  {
   "cell_type": "code",
   "execution_count": null,
   "metadata": {},
   "outputs": [],
   "source": [
    "\n",
    "a, b = 4, 5\n",
    "\n",
    "N = np.logspace(1,5,5)\n",
    "\n",
    "df = pd.DataFrame(index=N,columns=['Funcion1', 'Funcion2', 'Funcion3'], dtype='float')\n",
    "df.index.name = \"Cantidad_terminos\"\n",
    "\n",
    "for n in N:\n",
    "    df.loc[n,\"Funcion1\"] = int_montecarlo1(func1, a, b, n.astype(int))\n",
    "    df.loc[n,\"Funcion2\"] = int_montecarlo1(func2, a, b, n.astype(int))\n",
    "    df.loc[n,\"Funcion3\"] = int_montecarlo1(func3, a, b, n.astype(int))\n",
    "    \n",
    "df"
   ]
  },
  {
   "cell_type": "code",
   "execution_count": null,
   "metadata": {},
   "outputs": [],
   "source": [
    "x = np.linspace(-0.1,1.1)\n",
    "y = parab(x)\n",
    "\n",
    "plt.plot(x,x,'k--',label='$y=x$')\n",
    "plt.plot(x,y,'k',label='$y=x^2$')\n",
    "plt.fill_between(x,x,y)\n",
    "plt.text(0.5,0.4,'$\\mathcal{D}$',fontsize=20)\n",
    "plt.legend(loc='best')\n",
    "plt.show()"
   ]
  },
  {
   "cell_type": "code",
   "execution_count": null,
   "metadata": {},
   "outputs": [],
   "source": [
    "# Usar la funcion int_montecarlo1\n",
    "def f(x):\n",
    "    return x-x**2\n",
    "\n",
    "A_Daprox = int_montecarlo1(f, 0, 1, 100000000)\n",
    "A_Daprox"
   ]
  },
  {
   "cell_type": "code",
   "execution_count": null,
   "metadata": {},
   "outputs": [],
   "source": [
    "def circ_arriba(x, r):\n",
    "    return np.sqrt(r**2-x**2)\n",
    "\n",
    "def circ_abajo(x, r):\n",
    "    return -np.sqrt(r**2-x**2)"
   ]
  },
  {
   "cell_type": "code",
   "execution_count": null,
   "metadata": {},
   "outputs": [],
   "source": [
    "x = np.linspace(-1,1,100)\n",
    "y1 = circ_arriba(x, 1)\n",
    "y2 = circ_abajo(x, 1)\n",
    "\n",
    "plt.figure(figsize=(5,5))\n",
    "plt.plot(x,y1,'k')\n",
    "plt.plot(x,y2,'k')\n",
    "plt.fill_between(x,y1,y2)\n",
    "plt.text(0,0,'$\\mathcal{D}$',fontsize=20)\n",
    "plt.text(0.8,0.8,'$\\mathcal{R}$',fontsize=20)\n",
    "plt.show()"
   ]
  },
  {
   "cell_type": "code",
   "execution_count": null,
   "metadata": {},
   "outputs": [],
   "source": [
    "N = 1000000\n",
    "x = np.random.uniform(-1, 1, N)\n",
    "y = np.random.uniform(-1, 1, N)"
   ]
  },
  {
   "cell_type": "code",
   "execution_count": null,
   "metadata": {},
   "outputs": [],
   "source": [
    "\n",
    "X, Y = np.meshgrid(x,y)\n",
    "\n",
    "plt.figure(figsize=(5,5))\n",
    "plt.scatter(X,Y)\n",
    "plt.show()"
   ]
  },
  {
   "cell_type": "code",
   "execution_count": null,
   "metadata": {},
   "outputs": [],
   "source": [
    "def reg_circ(x,y):\n",
    "    return x**2+y**2<=1"
   ]
  },
  {
   "cell_type": "code",
   "execution_count": null,
   "metadata": {},
   "outputs": [],
   "source": [
    "A_R = 4\n",
    "\n",
    "A_Dapprox = A_R*np.sum(reg_circ(x,y))/N\n",
    "A_Dapprox"
   ]
  },
  {
   "cell_type": "code",
   "execution_count": null,
   "metadata": {},
   "outputs": [],
   "source": [
    "\n",
    "A_D = np.pi\n",
    "\n",
    "N = np.logspace(1,7,7)\n",
    "\n",
    "df = pd.DataFrame(index=N,columns=['Valor_aproximacion', 'Error_relativo'], dtype='float')\n",
    "df.index.name = \"Cantidad_terminos\"\n",
    "\n",
    "for n in N:\n",
    "    x = np.random.uniform(-1, 1, n.astype(int))\n",
    "    y = np.random.uniform(-1, 1, n.astype(int))\n",
    "    df.loc[n,\"Valor_aproximacion\"] = A_R*np.sum(reg_circ(x,y))/n\n",
    "    df.loc[n,\"Error_relativo\"] = np.abs(df.loc[n,\"Valor_aproximacion\"]-A_D)/A_D\n",
    "    \n",
    "df"
   ]
  },
  {
   "cell_type": "code",
   "execution_count": null,
   "metadata": {},
   "outputs": [],
   "source": [
    "# Escribir la función acá\n",
    "def int_montecarlo2(region, a1, b1, a2, b2, N):\n",
    "    A_R = (b1-a1)*(b2-a2)\n",
    "    x = np.random.uniform(a1, b1, N.astype(int))\n",
    "    y = np.random.uniform(a2, b2, N.astype(int))\n",
    "    return A_R*np.sum(region(x,y))/N"
   ]
  },
  {
   "cell_type": "code",
   "execution_count": null,
   "metadata": {},
   "outputs": [],
   "source": [
    "N = 100\n",
    "x = np.linspace(0, 1, N)\n",
    "y = np.linspace(0, 1, N)"
   ]
  },
  {
   "cell_type": "code",
   "execution_count": null,
   "metadata": {},
   "outputs": [],
   "source": [
    "def region(x,y):\n",
    "    ???"
   ]
  },
  {
   "cell_type": "code",
   "execution_count": null,
   "metadata": {},
   "outputs": [],
   "source": [
    "X, Y = np.meshgrid(x,y)\n",
    "\n",
    "plt.figure(figsize=(5,5))\n",
    "plt.scatter(X,Y,c=~region(X,Y),cmap='bone')\n",
    "plt.show()"
   ]
  },
  {
   "cell_type": "code",
   "execution_count": null,
   "metadata": {},
   "outputs": [],
   "source": [
    "# Resolver\n",
    "a1, a2, b1, b2 = 0, 0, 1, 1\n",
    "N = np.logspace(1,5,5)\n",
    "\n",
    "df = pd.DataFrame(index=N,columns=['Valor_aproximacion'], dtype='float')\n",
    "df.index.name = \"Cantidad_terminos\"\n",
    "\n",
    "for n in N:\n",
    "    df.loc[n,\"Valor_aproximacion\"] = int_montecarlo2(region, a1, b1, a2, b2, n)\n",
    "        \n",
    "df"
   ]
  }
 ],
 "metadata": {
  "kernelspec": {
   "display_name": "Python 3",
   "language": "python",
   "name": "python3"
  },
  "language_info": {
   "codemirror_mode": {
    "name": "ipython",
    "version": 3
   },
   "file_extension": ".py",
   "mimetype": "text/x-python",
   "name": "python",
   "nbconvert_exporter": "python",
   "pygments_lexer": "ipython3",
   "version": "3.7.3"
  }
 },
 "nbformat": 4,
 "nbformat_minor": 2
}
